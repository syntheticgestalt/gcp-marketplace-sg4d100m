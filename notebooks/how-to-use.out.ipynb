{
 "cells": [
  {
   "cell_type": "markdown",
   "metadata": {},
   "source": [
    "# How to use SG4D100M"
   ],
   "id": "55c817b0-bab4-4072-8b76-e68168948f69"
  },
  {
   "cell_type": "markdown",
   "metadata": {},
   "source": [
    "coming soon."
   ],
   "id": "cell-1"
  }
 ],
 "nbformat": 4,
 "nbformat_minor": 5,
 "metadata": {}
}
