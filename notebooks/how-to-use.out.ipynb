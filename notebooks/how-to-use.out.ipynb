{
 "cells": [
  {
   "cell_type": "markdown",
   "metadata": {},
   "source": [
    "# How to use SG4D100M"
   ],
   "id": "e58af30e-244f-46ba-b8b3-a500931cbd53"
  },
  {
   "cell_type": "markdown",
   "metadata": {},
   "source": [
    "coming soon."
   ],
   "id": "cell-1"
  }
 ],
 "nbformat": 4,
 "nbformat_minor": 5,
 "metadata": {}
}
