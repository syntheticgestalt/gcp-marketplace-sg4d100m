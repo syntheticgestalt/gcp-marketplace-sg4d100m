{
 "cells": [
  {
   "cell_type": "raw",
   "metadata": {
    "vscode": {
     "languageId": "raw"
    }
   },
   "source": [
    "---\n",
    "subtitle: \"How to use SG4D100M on Vertex AI\"\n",
    "format:\n",
    "  html:\n",
    "    code-fold: false\n",
    "    code-line-numbers: false\n",
    "    code-link: false\n",
    "    code-block-bg: true\n",
    "    code-block-border-left: \"#31BAE9\"\n",
    "---"
   ]
  },
  {
   "cell_type": "markdown",
   "metadata": {},
   "source": [
    "---\n",
    "\n",
    "As of writing this document (June 6, 2025), the API interface of SG4D100M on Vertex AI is still under development. The following content is prepared before the release date and may differ in the final implementation.\n",
    "\n",
    "---"
   ]
  },
  {
   "cell_type": "markdown",
   "metadata": {},
   "source": [
    "# Getting Started with SG4D100M\n"
   ]
  },
  {
   "cell_type": "markdown",
   "metadata": {
    "vscode": {
     "languageId": "sql"
    }
   },
   "source": [
    "## Objective\n",
    "\n",
    "This notebook demonstrates how to use the **Vertex AI API** to interact with SG4D100M for molecular embedding generation."
   ]
  },
  {
   "cell_type": "markdown",
   "metadata": {
    "vscode": {
     "languageId": "raw"
    }
   },
   "source": [
    "## Setting up\n",
    "\n",
    "First, let's set up the required configuration:\n",
    "\n",
    "- `API_ENDPOINT`: The URL endpoint for sending your requests\n",
    "- `ACCESS_TOKEN`: The bearer token for authenticating your HTTP requests"
   ]
  },
  {
   "cell_type": "code",
   "execution_count": 1,
   "metadata": {},
   "outputs": [],
   "source": [
    "import subprocess\n",
    "\n",
    "# Replace these with your actual project details\n",
    "PROJECT_NAME = \"__YOUR_PROJECT_NAME_GOES_HERE__\"\n",
    "PROJECT_LOCATION = \"__YOUR_PROJECT_LOCATION_GOES_HERE__\"\n",
    "\n",
    "# Construct the API endpoint URL\n",
    "API_ENDPOINT = '/'.join([\n",
    "    f\"https://{PROJECT_LOCATION}-aiplatform.googleapis.com/v1\",\n",
    "    f\"/projects/{PROJECT_NAME}\",\n",
    "    f\"/locations/{PROJECT_LOCATION}/\",\n",
    "    \"publishers/syntheticgestalt\",\n",
    "    \"models/sg4d100m:rawPredict\",\n",
    "])\n",
    "\n",
    "# Get the access token using gcloud CLI\n",
    "result = subprocess.run(\n",
    "    args=[\"gcloud\", 'auth', 'print-access-token'],\n",
    "    capture_output=True,\n",
    ")\n",
    "ACCESS_TOKEN = result.stdout.decode('utf-8').strip()"
   ]
  },
  {
   "cell_type": "markdown",
   "metadata": {},
   "source": [
    "## Running Online Inference\n"
   ]
  },
  {
   "cell_type": "markdown",
   "metadata": {},
   "source": [
    "### Model Input\n",
    "\n",
    "Let's create embeddings for the following compounds:"
   ]
  },
  {
   "cell_type": "code",
   "execution_count": 2,
   "metadata": {},
   "outputs": [
    {
     "data": {
      "text/html": [
       "<div><style>\n",
       ".dataframe > thead > tr,\n",
       ".dataframe > tbody > tr {\n",
       "  text-align: right;\n",
       "  white-space: pre-wrap;\n",
       "}\n",
       "</style>\n",
       "<small>shape: (2, 1)</small><table border=\"1\" class=\"dataframe\"><thead><tr><th>smiles</th></tr><tr><td>str</td></tr></thead><tbody><tr><td>&quot;CN1C=NC2=C1C(=O)N(C(=O)N2C)C&quot;</td></tr><tr><td>&quot;CCNC(=O)CC[C@H](N)C(=O)O&quot;</td></tr></tbody></table></div>"
      ],
      "text/plain": [
       "shape: (2, 1)\n",
       "┌──────────────────────────────┐\n",
       "│ smiles                       │\n",
       "│ ---                          │\n",
       "│ str                          │\n",
       "╞══════════════════════════════╡\n",
       "│ CN1C=NC2=C1C(=O)N(C(=O)N2C)C │\n",
       "│ CCNC(=O)CC[C@H](N)C(=O)O     │\n",
       "└──────────────────────────────┘"
      ]
     },
     "execution_count": 2,
     "metadata": {},
     "output_type": "execute_result"
    }
   ],
   "source": [
    "import polars as pl\n",
    "\n",
    "# Example molecules (caffeine and a Theanine)\n",
    "request_df = pl.DataFrame([\n",
    "    {\"smiles\": \"CN1C=NC2=C1C(=O)N(C(=O)N2C)C\"},  # Caffeine\n",
    "    {\"smiles\": \"CCNC(=O)CC[C@H](N)C(=O)O\"},      # Theanine\n",
    "])\n",
    "request_df"
   ]
  },
  {
   "cell_type": "markdown",
   "metadata": {},
   "source": [
    "### API Invocation\n",
    "\n",
    "We can run the predictions using HTTP POST requests:"
   ]
  },
  {
   "cell_type": "code",
   "execution_count": 8,
   "metadata": {},
   "outputs": [],
   "source": [
    "import requests\n",
    "\n",
    "response = requests.post(\n",
    "    url=API_ENDPOINT,\n",
    "    headers={\n",
    "        \"Authorization\": f\"Bearer {ACCESS_TOKEN}\",\n",
    "        \"Content-Type\": \"application/json\",\n",
    "    },\n",
    "    json={\n",
    "        \"sg4d100m_version\": \"sg4d100m-2025-06-06\",\n",
    "        \"messages\": request_df.to_dicts(),\n",
    "    },\n",
    ")"
   ]
  },
  {
   "cell_type": "markdown",
   "metadata": {},
   "source": [
    "### Model Output\n",
    "\n",
    "The model returns molecular embeddings that can be converted to a DataFrame:"
   ]
  },
  {
   "cell_type": "code",
   "execution_count": null,
   "metadata": {},
   "outputs": [],
   "source": [
    "response_df = pl.from_dicts(response.json())\n",
    "response_df"
   ]
  },
  {
   "cell_type": "markdown",
   "metadata": {},
   "source": [
    "## Next Steps\n",
    "\n",
    "- Use the embeddings for similarity search\n",
    "- Perform clustering analysis\n",
    "- Predict molecular properties"
   ]
  }
 ],
 "metadata": {
  "language_info": {
   "name": "python"
  }
 },
 "nbformat": 4,
 "nbformat_minor": 2
}
