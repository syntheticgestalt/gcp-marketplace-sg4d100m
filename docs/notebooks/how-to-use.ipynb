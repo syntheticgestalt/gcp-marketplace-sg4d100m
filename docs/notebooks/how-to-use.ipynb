{
 "cells": [
  {
   "cell_type": "markdown",
   "metadata": {
    "vscode": {
     "languageId": "plaintext"
    }
   },
   "source": [
    "# How to use SG4D100M\n",
    "\n",
    "coming soon."
   ]
  }
 ],
 "metadata": {
  "language_info": {
   "name": "python"
  }
 },
 "nbformat": 4,
 "nbformat_minor": 2
}
